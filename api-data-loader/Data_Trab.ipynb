{
 "cells": [
  {
   "cell_type": "markdown",
   "id": "c1cefd57",
   "metadata": {},
   "source": [
    "EJERCICIOS: DATA ANALYTICS\n",
    "\n",
    "coerse = si hay valores que no se pueden convertir, los coloca en NaN"
   ]
  },
  {
   "cell_type": "code",
   "execution_count": 4,
   "id": "f0b9df79",
   "metadata": {},
   "outputs": [
    {
     "name": "stdout",
     "output_type": "stream",
     "text": [
      "   ID_Venta       Fecha Producto  Cantidad  Precio    Ciudad     Cliente\n",
      "0         1  2023-01-01   Tablet        82     759  Trujillo  Cliente_12\n",
      "1         2  2023-01-02  Monitor       111     863     Cusco  Cliente_12\n",
      "<class 'pandas.core.frame.DataFrame'>\n",
      "RangeIndex: 120 entries, 0 to 119\n",
      "Data columns (total 7 columns):\n",
      " #   Column    Non-Null Count  Dtype \n",
      "---  ------    --------------  ----- \n",
      " 0   ID_Venta  120 non-null    int64 \n",
      " 1   Fecha     120 non-null    object\n",
      " 2   Producto  120 non-null    object\n",
      " 3   Cantidad  120 non-null    int64 \n",
      " 4   Precio    120 non-null    int64 \n",
      " 5   Ciudad    120 non-null    object\n",
      " 6   Cliente   120 non-null    object\n",
      "dtypes: int64(3), object(4)\n",
      "memory usage: 6.7+ KB\n",
      "None\n",
      "         ID_Venta    Cantidad       Precio\n",
      "count  120.000000  120.000000   120.000000\n",
      "mean    60.500000   78.891667  1036.191667\n",
      "std     34.785054   43.230629   548.573663\n",
      "min      1.000000    1.000000   101.000000\n",
      "25%     30.750000   41.000000   557.250000\n",
      "50%     60.500000   81.500000  1020.500000\n",
      "75%     90.250000  121.000000  1502.250000\n",
      "max    120.000000  147.000000  1984.000000\n"
     ]
    }
   ],
   "source": [
    "import pandas as pd\n",
    "\n",
    "# 1. importar librerias y cargar el archivo\n",
    "df = pd.read_csv(\"ventas.csv\")\n",
    "print(df.head(2))\n",
    "print(df.info())\n",
    "print(df.describe())"
   ]
  },
  {
   "cell_type": "code",
   "execution_count": 3,
   "id": "fb33ca37",
   "metadata": {},
   "outputs": [
    {
     "name": "stdout",
     "output_type": "stream",
     "text": [
      "<class 'pandas.core.frame.DataFrame'>\n",
      "RangeIndex: 120 entries, 0 to 119\n",
      "Data columns (total 7 columns):\n",
      " #   Column    Non-Null Count  Dtype \n",
      "---  ------    --------------  ----- \n",
      " 0   ID_Venta  120 non-null    int64 \n",
      " 1   Fecha     120 non-null    object\n",
      " 2   Producto  120 non-null    object\n",
      " 3   Cantidad  120 non-null    int64 \n",
      " 4   Precio    120 non-null    int64 \n",
      " 5   Ciudad    120 non-null    object\n",
      " 6   Cliente   120 non-null    object\n",
      "dtypes: int64(3), object(4)\n",
      "memory usage: 6.7+ KB\n",
      "None\n",
      "         ID_Venta    Cantidad       Precio\n",
      "count  120.000000  120.000000   120.000000\n",
      "mean    60.500000   78.891667  1036.191667\n",
      "std     34.785054   43.230629   548.573663\n",
      "min      1.000000    1.000000   101.000000\n",
      "25%     30.750000   41.000000   557.250000\n",
      "50%     60.500000   81.500000  1020.500000\n",
      "75%     90.250000  121.000000  1502.250000\n",
      "max    120.000000  147.000000  1984.000000\n"
     ]
    }
   ],
   "source": [
    "# 2. Revisar informacion general\n",
    "print(df.info())        ## Información del dataset (columnas, tipos de datos, nulos)\n",
    "print(df.describe())    ## Resumen estadístico de las columnas numéricas"
   ]
  },
  {
   "cell_type": "code",
   "execution_count": 5,
   "id": "facae08b",
   "metadata": {},
   "outputs": [
    {
     "name": "stdout",
     "output_type": "stream",
     "text": [
      "   ID_Venta      Fecha Producto  Cantidad  Precio    Ciudad     Cliente  \\\n",
      "0         1 2023-01-01   Tablet        82   759.0  Trujillo  Cliente_12   \n",
      "1         2 2023-01-02  Monitor       111   863.0     Cusco  Cliente_12   \n",
      "\n",
      "     Total  \n",
      "0  62238.0  \n",
      "1  95793.0  \n",
      "<class 'pandas.core.frame.DataFrame'>\n",
      "RangeIndex: 120 entries, 0 to 119\n",
      "Data columns (total 8 columns):\n",
      " #   Column    Non-Null Count  Dtype         \n",
      "---  ------    --------------  -----         \n",
      " 0   ID_Venta  120 non-null    int64         \n",
      " 1   Fecha     120 non-null    datetime64[ns]\n",
      " 2   Producto  120 non-null    object        \n",
      " 3   Cantidad  120 non-null    int64         \n",
      " 4   Precio    120 non-null    float64       \n",
      " 5   Ciudad    120 non-null    object        \n",
      " 6   Cliente   120 non-null    object        \n",
      " 7   Total     120 non-null    float64       \n",
      "dtypes: datetime64[ns](1), float64(2), int64(2), object(3)\n",
      "memory usage: 7.6+ KB\n",
      "None\n"
     ]
    }
   ],
   "source": [
    "#TRANSFORMACION DE LA DATA\n",
    "# 1. Convertir Fecha a datetime\n",
    "df['Fecha'] = pd.to_datetime(df['Fecha'], errors='coerce')\n",
    "# 2. Asegurar que Precio sea decimal (float)\n",
    "df['Precio'] = df['Precio'].astype(float)\n",
    "# 3. Crear columna Total = Cantidad * Precio\n",
    "df['Total'] = df['Cantidad'] * df['Precio']\n",
    "print(df.head(2))\n",
    "print(df.info())\n"
   ]
  },
  {
   "cell_type": "code",
   "execution_count": null,
   "id": "90faa2f3",
   "metadata": {},
   "outputs": [
    {
     "name": "stdout",
     "output_type": "stream",
     "text": [
      "Numero de filas duplicadas:  0\n",
      "Se eliminaron un total de duplicados:  0\n",
      "Numero de nulos: 0\n",
      "Se eliminaron un total de nulos:  0\n"
     ]
    }
   ],
   "source": [
    "#Contar duplicados + eliminarlos\n",
    "duplicados = df.duplicated().sum()\n",
    "print(\"Numero de filas duplicadas: \", duplicados)\n",
    "df = df.drop_duplicates()\n",
    "print(\"Se eliminaron un total de duplicados: \", duplicados)\n",
    "#Contar los nulos + eliminarlos\n",
    "nulos = df.isnull().sum().sum()\n",
    "print(\"Numero de nulos:\", nulos)\n",
    "df = df.dropna(subset=['Cliente', 'Producto'])\n",
    "print(\"Se eliminaron un total de nulos: \", nulos)\n"
   ]
  },
  {
   "cell_type": "code",
   "execution_count": 31,
   "id": "69dc1b3f",
   "metadata": {},
   "outputs": [
    {
     "name": "stdout",
     "output_type": "stream",
     "text": [
      "     ID_Venta      Fecha Producto  Cantidad  Precio Ciudad     Cliente  \\\n",
      "14         15 2023-01-15  Monitor       136   650.0   Lima  Cliente_16   \n",
      "18         19 2023-01-19  Monitor       136  1902.0   Lima  Cliente_10   \n",
      "24         25 2023-01-25  Monitor       135   362.0   Lima  Cliente_28   \n",
      "78         79 2023-03-20   Tablet       137  1703.0   Lima  Cliente_26   \n",
      "107       108 2023-04-18  Monitor       145  1400.0   Lima  Cliente_16   \n",
      "\n",
      "        Total  \n",
      "14    88400.0  \n",
      "18   258672.0  \n",
      "24    48870.0  \n",
      "78   233311.0  \n",
      "107  203000.0  \n"
     ]
    }
   ],
   "source": [
    "#MANIPULAR LOS DATOS\n",
    "#FILTRAR = todas las ventas de Lima con más de 100 unidades.\n",
    "ventas_lima_100 = df[(df['Ciudad'] == 'Lima') & (df['Cantidad'] > 130)]\n",
    "print(ventas_lima_100.head(10))"
   ]
  },
  {
   "cell_type": "code",
   "execution_count": null,
   "id": "80db4f6d",
   "metadata": {},
   "outputs": [
    {
     "name": "stdout",
     "output_type": "stream",
     "text": [
      "     Ciudad      Total\n",
      "0  Arequipa  2555152.0\n",
      "1     Cusco  2275004.0\n",
      "2      Lima  2623112.0\n",
      "3  Trujillo  2328820.0\n"
     ]
    }
   ],
   "source": [
    "#AGRUPAR = total vendido por ciudad. / 👉 .reset_index() se usa para devolverlo como DataFrame limpio\n",
    "ventas_por_ciudad = df.groupby('Ciudad')['Total'].sum().reset_index() \n",
    "print(ventas_por_ciudad)"
   ]
  },
  {
   "cell_type": "code",
   "execution_count": 33,
   "id": "9f9013bb",
   "metadata": {},
   "outputs": [
    {
     "name": "stdout",
     "output_type": "stream",
     "text": [
      "          Cantidad       Precio\n",
      "Producto                       \n",
      "Celular       2758   936.382353\n",
      "Laptop        1340  1124.227273\n",
      "Monitor       3061  1071.305556\n",
      "Tablet        2308  1043.071429\n"
     ]
    }
   ],
   "source": [
    "#AGRUPAR = promedio de precio y suma de cantidad por producto.\n",
    "resumen_producto = df.groupby('Producto').agg({\n",
    "    'Cantidad': 'sum',\n",
    "    'Precio': 'mean'\n",
    "})\n",
    "print(resumen_producto)"
   ]
  },
  {
   "cell_type": "code",
   "execution_count": 34,
   "id": "2e8b4948",
   "metadata": {},
   "outputs": [
    {
     "name": "stdout",
     "output_type": "stream",
     "text": [
      "   Cantidad Clasificacion\n",
      "0        82          Baja\n",
      "1       111          Alta\n",
      "2        53          Baja\n",
      "3        24          Baja\n",
      "4       124          Alta\n"
     ]
    }
   ],
   "source": [
    "#CREAR COLUMNAS CONDICIONALES \n",
    "#clasificar las ventas según la cantidad.\n",
    "df['Clasificacion'] = df['Cantidad'].apply(\n",
    "    lambda x: \"Alta\" if x > 100 else \"Baja\"\n",
    ")\n",
    "print(df[['Cantidad', 'Clasificacion']].head())"
   ]
  },
  {
   "cell_type": "markdown",
   "id": "bb05f4a6",
   "metadata": {},
   "source": [
    "✅ Con esto ya dominamos: cargar → limpiar → transformar → filtrar → agrupar → condicionar."
   ]
  }
 ],
 "metadata": {
  "kernelspec": {
   "display_name": "Python 3",
   "language": "python",
   "name": "python3"
  },
  "language_info": {
   "codemirror_mode": {
    "name": "ipython",
    "version": 3
   },
   "file_extension": ".py",
   "mimetype": "text/x-python",
   "name": "python",
   "nbconvert_exporter": "python",
   "pygments_lexer": "ipython3",
   "version": "3.13.2"
  }
 },
 "nbformat": 4,
 "nbformat_minor": 5
}
