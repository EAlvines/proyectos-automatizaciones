{
 "cells": [
  {
   "cell_type": "markdown",
   "id": "854afad3",
   "metadata": {},
   "source": [
    "En este Scrip vemos: Fundamentos de conectarse a una API + Lctura en JSON + Acceso a los datos según lo que deseo extraer\n"
   ]
  },
  {
   "cell_type": "code",
   "execution_count": 7,
   "id": "ea37e69b",
   "metadata": {},
   "outputs": [
    {
     "name": "stdout",
     "output_type": "stream",
     "text": [
      "JSON recibido\n",
      "{'result': 'success', 'provider': 'https://www.exchangerate-api.com', 'documentation': 'https://www.exchangerate-api.com/docs/free', 'terms_of_use': 'https://www.exchangerate-api.com/terms', 'time_last_update_unix': 1753142551, 'time_last_update_utc': 'Tue, 22 Jul 2025 00:02:31 +0000', 'time_next_update_unix': 1753230781, 'time_next_update_utc': 'Wed, 23 Jul 2025 00:33:01 +0000', 'time_eol_unix': 0, 'base_code': 'USD', 'rates': {'USD': 1, 'AED': 3.6725, 'AFN': 69.068089, 'ALL': 83.737341, 'AMD': 383.925042, 'ANG': 1.79, 'AOA': 921.939307, 'ARS': 1286, 'AUD': 1.532239, 'AWG': 1.79, 'AZN': 1.698486, 'BAM': 1.675371, 'BBD': 2, 'BDT': 121.532242, 'BGN': 1.67548, 'BHD': 0.376, 'BIF': 2970.144668, 'BMD': 1, 'BND': 1.282383, 'BOB': 6.910126, 'BRL': 5.582147, 'BSD': 1, 'BTN': 86.288068, 'BWP': 14.016168, 'BYN': 3.12935, 'BZD': 2, 'CAD': 1.370089, 'CDF': 2886.742602, 'CHF': 0.799447, 'CLP': 962.927264, 'CNY': 7.184604, 'COP': 4016.184626, 'CRC': 504.14331, 'CUP': 24, 'CVE': 94.453371, 'CZK': 21.129614, 'DJF': 177.721, 'DKK': 6.387828, 'DOP': 60.396482, 'DZD': 130.029163, 'EGP': 49.240983, 'ERN': 15, 'ETB': 136.615351, 'EUR': 0.856608, 'FJD': 2.25303, 'FKP': 0.742397, 'FOK': 6.387902, 'GBP': 0.742401, 'GEL': 2.710563, 'GGP': 0.742397, 'GHS': 10.871152, 'GIP': 0.742397, 'GMD': 72.77597, 'GNF': 8697.979413, 'GTQ': 7.668927, 'GYD': 209.175566, 'HKD': 7.850131, 'HNL': 26.145088, 'HRK': 6.454078, 'HTG': 131.19975, 'HUF': 342.332327, 'IDR': 16315.936467, 'ILS': 3.348971, 'IMP': 0.742397, 'INR': 86.288177, 'IQD': 1310.667396, 'IRR': 42444.914754, 'ISK': 122.210738, 'JEP': 0.742397, 'JMD': 160.082969, 'JOD': 0.709, 'JPY': 147.633893, 'KES': 129.033877, 'KGS': 87.35138, 'KHR': 4017.958456, 'KID': 1.532376, 'KMF': 421.421234, 'KRW': 1383.655906, 'KWD': 0.305315, 'KYD': 0.833333, 'KZT': 529.947541, 'LAK': 21643.603685, 'LBP': 89500, 'LKR': 301.323909, 'LRD': 200.288575, 'LSL': 17.67463, 'LYD': 5.419215, 'MAD': 9.02811, 'MDL': 16.981067, 'MGA': 4428.524233, 'MKD': 52.932961, 'MMK': 2098.517563, 'MNT': 3554.665075, 'MOP': 8.085635, 'MRU': 39.955868, 'MUR': 45.588419, 'MVR': 15.413919, 'MWK': 1743.94303, 'MXN': 18.693117, 'MYR': 4.2354, 'MZN': 63.665413, 'NAD': 17.67463, 'NGN': 1528.729682, 'NIO': 36.768685, 'NOK': 10.171487, 'NPR': 138.060909, 'NZD': 1.675067, 'OMR': 0.384497, 'PAB': 1, 'PEN': 3.561199, 'PGK': 4.146134, 'PHP': 57.10894, 'PKR': 285.161119, 'PLN': 3.638403, 'PYG': 7699.514111, 'QAR': 3.64, 'RON': 4.345808, 'RSD': 100.552614, 'RUB': 78.233326, 'RWF': 1449.316026, 'SAR': 3.75, 'SBD': 8.259163, 'SCR': 14.495966, 'SDG': 454.16578, 'SEK': 9.592848, 'SGD': 1.282389, 'SHP': 0.742397, 'SLE': 22.587122, 'SLL': 22587.122048, 'SOS': 571.881261, 'SRD': 36.703157, 'SSP': 4691.567342, 'STN': 20.986783, 'SYP': 12885.786855, 'SZL': 17.67463, 'THB': 32.285635, 'TJS': 9.610464, 'TMT': 3.499932, 'TND': 2.877087, 'TOP': 2.382545, 'TRY': 40.454555, 'TTD': 6.762252, 'TVD': 1.532376, 'TWD': 29.338443, 'TZS': 2602.26452, 'UAH': 41.811706, 'UGX': 3566.853608, 'UYU': 40.322452, 'UZS': 12631.977427, 'VES': 119.6662, 'VND': 26064.011439, 'VUV': 119.110527, 'WST': 2.666802, 'XAF': 561.894979, 'XCD': 2.7, 'XCG': 1.79, 'XDR': 0.732481, 'XOF': 561.894979, 'XPF': 102.220194, 'YER': 240.745314, 'ZAR': 17.665572, 'ZMW': 23.13768, 'ZWL': 26.8064}}\n"
     ]
    }
   ],
   "source": [
    "import requests\n",
    "import json\n",
    "\n",
    "url = \"https://open.er-api.com/v6/latest/USD\"\n",
    "\n",
    "#Hacer la solicitud GET a la API\n",
    "response = requests.get(url)\n",
    "print(\"JSON recibido\")\n",
    "print(response.json())\n"
   ]
  },
  {
   "cell_type": "code",
   "execution_count": 8,
   "id": "e522415b",
   "metadata": {},
   "outputs": [
    {
     "name": "stdout",
     "output_type": "stream",
     "text": [
      "1 USD = 3.561199 PEN ultima actualizacion: Tue, 22 Jul 2025 00:02:31 +0000\n"
     ]
    }
   ],
   "source": [
    "import requests\n",
    "import json\n",
    "\n",
    "url = \"https://open.er-api.com/v6/latest/USD\"\n",
    "\n",
    "#Hacer la solicitud GET a la API\n",
    "response = requests.get(url)\n",
    "\n",
    "#verificar si la conexion fue exitosa\n",
    "if response.status_code == 200:\n",
    "    data = response.json()  #convierte la rspta en formato diccionario\n",
    "    Tipo_cambio = data[\"rates\"][\"PEN\"]\n",
    "    fecha = data[\"time_last_update_utc\"]\n",
    "    print(f\"1 USD = {Tipo_cambio} PEN ultima actualizacion: {fecha}\")\n",
    "else:\n",
    "    print(\"error al conectar\")"
   ]
  },
  {
   "cell_type": "code",
   "execution_count": 9,
   "id": "f6b15134",
   "metadata": {},
   "outputs": [
    {
     "name": "stdout",
     "output_type": "stream",
     "text": [
      "1 USD = 3.561199 PEN\n",
      "1 USD = 0.856608 EUR\n",
      "1 USD = 18.693117 MXN\n",
      "Fecha ultima actualizacion: Wed, 23 Jul 2025 00:31:41 +0000\n"
     ]
    }
   ],
   "source": [
    "import requests\n",
    "\n",
    "url = \"https://open.er-api.com/v6/latest/USD\"\n",
    "\n",
    "response = requests.get(url)\n",
    "\n",
    "if response.status_code == 200:\n",
    "    data = response.json()\n",
    "    PEN = data[\"rates\"][\"PEN\"]\n",
    "    EUR = data[\"rates\"][\"EUR\"]\n",
    "    MXN = data[\"rates\"][\"MXN\"]\n",
    "    fecha = data[\"time_next_update_utc\"]\n",
    "    print(f\"1 USD = {PEN} PEN\")\n",
    "    print(f\"1 USD = {EUR} EUR\")\n",
    "    print(f\"1 USD = {MXN} MXN\")\n",
    "    print(f\"Fecha ultima actualizacion: {fecha}\")\n",
    "else:\n",
    "    print(\"Error al conectar\")\n"
   ]
  },
  {
   "cell_type": "markdown",
   "id": "5b9a0444",
   "metadata": {},
   "source": [
    "ITERACION CON LISTAS + AUTOMATIZACION \n",
    "🧪 EJERCICIO PRÁCTICO (80%) — Automatización de llamadas a API\n",
    "endpoint = https://open.er-api.com/v6/latest/USD\n"
   ]
  },
  {
   "cell_type": "markdown",
   "id": "787ebb71",
   "metadata": {},
   "source": [
    "🎯 Objetivo:\n",
    "Consultar el tipo de cambio de USD a varias monedas usando un for y mostrarlo ordenadamente.\n"
   ]
  },
  {
   "cell_type": "code",
   "execution_count": 16,
   "id": "0f4cfb86",
   "metadata": {},
   "outputs": [
    {
     "name": "stdout",
     "output_type": "stream",
     "text": [
      "Tipo de cambio: \n",
      "1 USD = 3.561199 PEN\n",
      "1 USD = 0.856608 EUR\n",
      "1 USD = 18.693117 MXN\n",
      "1 USD = 1286 ARS\n"
     ]
    }
   ],
   "source": [
    "#Lista de monedas\n",
    "import requests\n",
    "url = f\"https://open.er-api.com/v6/latest/USD\"\n",
    "response = requests.get(url)\n",
    "\n",
    "if response.status_code == 200:\n",
    "    data = response.json()\n",
    "    monedas = [\"PEN\", \"EUR\", \"MXN\", \"ARS\"]\n",
    "    print(\"Tipo de cambio: \")\n",
    "    for moneda in monedas:\n",
    "        valor = data[\"rates\"][moneda]\n",
    "        print(f\"1 USD = {valor} {moneda}\")\n",
    "else: \n",
    "    print(\"error\")\n"
   ]
  },
  {
   "cell_type": "markdown",
   "id": "880cf0ec",
   "metadata": {},
   "source": [
    "📌 Parte práctica: Guardar resultados en CSV"
   ]
  },
  {
   "cell_type": "code",
   "execution_count": 17,
   "id": "bacf8a61",
   "metadata": {},
   "outputs": [
    {
     "name": "stdout",
     "output_type": "stream",
     "text": [
      "Archivo CSV generado con éxito.\n"
     ]
    }
   ],
   "source": [
    "import requests\n",
    "import csv\n",
    "url = f\"https://open.er-api.com/v6/latest/USD\"\n",
    "response = requests.get(url)\n",
    "\n",
    "if response.status_code == 200:\n",
    "    data = response.json()\n",
    "    moneda = [\"PEN\", \"EUR\", \"MXN\", \"ARS\"]\n",
    "    fecha = data[\"time_last_update_utc\"]\n",
    "\n",
    "#creando el archivo CSV\n",
    "    with open (\"tipos_cambio.csv\", mode=\"w\", newline=\"\", encoding=\"utf-8\") as archivo:\n",
    "        writer = csv.writer(archivo)\n",
    "        writer.writerow([\"Moneda\", \"Valor\", \"fecha\"])\n",
    "\n",
    "        for moneda in monedas:  #Por cada moneda, extraemos su valor y escribimos una fila en el CSV\n",
    "            valor= data[\"rates\"][moneda]\n",
    "            writer.writerow([moneda, valor, fecha])\n",
    "    print(\"Archivo CSV generado con éxito.\")\n",
    "else:\n",
    "    print(\"error\")\n"
   ]
  },
  {
   "cell_type": "markdown",
   "id": "778dcfe7",
   "metadata": {},
   "source": [
    "RETO: Crear un script que puedas ejecutar cuando quieras, y cada vez que lo hagas, agregue al archivo CSV los valores actualizados de las tasas de cambio (sin borrar los datos anteriores). Así tendrás un histórico de tasas en un solo archivo 📈"
   ]
  },
  {
   "cell_type": "code",
   "execution_count": 26,
   "id": "ba9230a1",
   "metadata": {},
   "outputs": [
    {
     "name": "stdout",
     "output_type": "stream",
     "text": [
      "registro agregado\n"
     ]
    }
   ],
   "source": [
    "import requests\n",
    "import csv\n",
    "from datetime import datetime\n",
    "\n",
    "url = \"https://open.er-api.com/v6/latest/USD\"\n",
    "response = requests.get(url)\n",
    "\n",
    "if response.status_code == 200:\n",
    "    data = response.json()\n",
    "    moneda = [\"PEN\", \"EUR\", \"MXN\", \"ARS\"]\n",
    "    fecha_api = data[\"time_last_update_utc\"]\n",
    "    fecha_local = datetime.now().strftime(\"%Y-%m-%d\")\n",
    "#crear el archivo + mode \"a\" que es para agregar\n",
    "    with open(\"historial_tipos_cambio.csv\", mode=\"a\", newline=\"\", encoding=\"utf-8\") as archivo:\n",
    "        writer = csv.writer(archivo)\n",
    "        \n",
    "        for moneda in monedas:\n",
    "            valor = data[\"rates\"][moneda]\n",
    "            writer.writerow([moneda, valor, fecha_api, fecha_local])\n",
    "    print(\"registro agregado\")\n",
    "else:\n",
    "    print(\"error\")\n"
   ]
  },
  {
   "cell_type": "markdown",
   "id": "ffe93e89",
   "metadata": {},
   "source": [
    "Tema: Transformar respuesta JSON a dataset usable y guardarlo como CSV/Excel.\n"
   ]
  },
  {
   "cell_type": "markdown",
   "id": "0a57c527",
   "metadata": {},
   "source": [
    "Consumimos la API y vemos el JSON"
   ]
  },
  {
   "cell_type": "code",
   "execution_count": 3,
   "id": "473daa63",
   "metadata": {},
   "outputs": [
    {
     "name": "stdout",
     "output_type": "stream",
     "text": [
      "dict_keys(['result', 'provider', 'documentation', 'terms_of_use', 'time_last_update_unix', 'time_last_update_utc', 'time_next_update_unix', 'time_next_update_utc', 'time_eol_unix', 'base_code', 'rates'])\n"
     ]
    }
   ],
   "source": [
    "import requests\n",
    "\n",
    "url = \"https://open.er-api.com/v6/latest/USD\"\n",
    "response = requests.get(url)\n",
    "data = response.json()\n",
    "\n",
    "#explorar las claves principales\n",
    "print(data.keys())"
   ]
  },
  {
   "cell_type": "code",
   "execution_count": 4,
   "id": "cd57f6d5",
   "metadata": {},
   "outputs": [
    {
     "name": "stdout",
     "output_type": "stream",
     "text": [
      "<class 'dict'>\n",
      "[('USD', 1), ('AED', 3.6725), ('AFN', 68.775307), ('ALL', 85.088403), ('AMD', 383.874332)]\n"
     ]
    }
   ],
   "source": [
    "#Extraer solo la tasa de Cambio\n",
    "rates = data['rates']\n",
    "print(type(rates))\n",
    "print(list(rates.items())[:5])\n"
   ]
  },
  {
   "cell_type": "code",
   "execution_count": 6,
   "id": "1a70e421",
   "metadata": {},
   "outputs": [
    {
     "name": "stdout",
     "output_type": "stream",
     "text": [
      "  Moneda        Tasa\n",
      "0    USD    1.000000\n",
      "1    AED    3.672500\n",
      "2    AFN   68.775307\n",
      "3    ALL   85.088403\n",
      "4    AMD  383.874332\n"
     ]
    }
   ],
   "source": [
    "#convertimos a dataframe\n",
    "import pandas as pd\n",
    "df = pd.DataFrame(list(rates.items()), columns=[\"Moneda\", \"Tasa\"])\n",
    "print(df.head())"
   ]
  },
  {
   "cell_type": "code",
   "execution_count": 7,
   "id": "fd9af82f",
   "metadata": {},
   "outputs": [],
   "source": [
    "#guardamos como CSV \n",
    "df.to_csv(\"Tasa_cambio.csv\", index=False, encoding='utf-8-sig')"
   ]
  },
  {
   "cell_type": "code",
   "execution_count": 8,
   "id": "8247118b",
   "metadata": {},
   "outputs": [],
   "source": [
    "df.to_excel(\"Tasa_cambio.xlsx\", index=False)"
   ]
  },
  {
   "cell_type": "markdown",
   "id": "c7ecc9c5",
   "metadata": {},
   "source": [
    "EJERCICIO PRACTICO - RETO\n"
   ]
  },
  {
   "cell_type": "code",
   "execution_count": 19,
   "id": "0474fe50",
   "metadata": {},
   "outputs": [
    {
     "name": "stdout",
     "output_type": "stream",
     "text": [
      "200\n",
      "Tipo de data: <class 'list'>\n",
      "Claves del primer país: dict_keys(['name', 'capital', 'region', 'area', 'population'])\n"
     ]
    }
   ],
   "source": [
    "import requests\n",
    "\n",
    "url = \"https://restcountries.com/v3.1/all?fields=name,region,capital,population,area\"\n",
    "headers = {\"Accept\": \"application/json\"}\n",
    "response1 = requests.get(url, headers=headers)\n",
    "\n",
    "print(response1.status_code) \n",
    "\n",
    "if response1.status_code == 200:\n",
    "    data = response1.json()\n",
    "    print(\"Tipo de data:\", type(data))\n",
    "    print(\"Claves del primer país:\", data[0].keys())\n",
    "else:\n",
    "    print(\"Error al consultar la API\")\n"
   ]
  },
  {
   "cell_type": "code",
   "execution_count": 23,
   "id": "0c02bd02",
   "metadata": {},
   "outputs": [
    {
     "name": "stdout",
     "output_type": "stream",
     "text": [
      "             pais   region         capital  poblacion   area_km2\n",
      "0         Moldova   Europe      [Chișinău]    2617820    33846.0\n",
      "1         Comoros   Africa        [Moroni]     869595     1862.0\n",
      "2        Malaysia     Asia  [Kuala Lumpur]   32365998   330803.0\n",
      "3         Algeria   Africa       [Algiers]   44700000  2381741.0\n",
      "4  Norfolk Island  Oceania      [Kingston]       2302       36.0\n"
     ]
    }
   ],
   "source": [
    "import pandas as pd\n",
    "\n",
    "lista_limpia = []\n",
    "\n",
    "for pais in data:\n",
    "    registro={\n",
    "        \"pais\": pais['name']['common'],\n",
    "        \"region\": pais.get('region'),\n",
    "        \"capital\": pais.get('capital'),\n",
    "        \"poblacion\": pais.get('population'),\n",
    "        \"area_km2\": pais.get('area')\n",
    "    }\n",
    "    lista_limpia.append(registro)\n",
    "\n",
    "df = pd.DataFrame(lista_limpia)\n",
    "print(df.head())\n",
    "\n",
    "df.to_csv(\"paises_mundo.csv\", index=False, encoding='utf-8')"
   ]
  },
  {
   "cell_type": "markdown",
   "id": "2c96f1a5",
   "metadata": {},
   "source": [
    "EJERCICIO: Conectar con una API pública - Obtener el precio actual de algunas criptomonedas - Guardar esos datos en un CSV\n",
    "\n",
    "Leer el CSV y mostrarlo\n"
   ]
  },
  {
   "cell_type": "code",
   "execution_count": 6,
   "id": "e85581a2",
   "metadata": {},
   "outputs": [
    {
     "name": "stdout",
     "output_type": "stream",
     "text": [
      "[\n",
      "     {\n",
      "          \"id\": \"_\",\n",
      "          \"symbol\": \"gib\",\n",
      "          \"name\": \"༼ つ ◕_◕ ༽つ\"\n",
      "     },\n",
      "     {\n",
      "          \"id\": \"000-capital\",\n",
      "          \"symbol\": \"000\",\n",
      "          \"name\": \"000 Capital\"\n",
      "     }\n",
      "]\n"
     ]
    }
   ],
   "source": [
    "import requests\n",
    "import json\n",
    "import pandas as pd\n",
    "\n",
    "# Endpoint de la API\n",
    "url = \"https://api.coingecko.com/api/v3/coins/list\"\n",
    "\n",
    "#pedimos\n",
    "r = requests.get(url)\n",
    "\n",
    "#validamos que sea correcta la rspta\n",
    "if r.status_code == 200:\n",
    "    data = r.json()\n",
    "    print(json.dumps(data[:2], indent=5, ensure_ascii=False))\n",
    "else:\n",
    "    print(f\"error {r.status_code}\")\n"
   ]
  },
  {
   "cell_type": "code",
   "execution_count": 9,
   "id": "a8ba9068",
   "metadata": {},
   "outputs": [
    {
     "name": "stdout",
     "output_type": "stream",
     "text": [
      "datos guardados\n"
     ]
    }
   ],
   "source": [
    "import requests\n",
    "import pandas as pd\n",
    "\n",
    "url = \"https://api.coingecko.com/api/v3/simple/price\"\n",
    "params = {\n",
    "    \"ids\": \"bitcoin,ethereum,cardano\", # criptos a consultar\n",
    "    \"vs_currencies\": \"usd,pen\"          # monedas: dólares y soles\n",
    "}\n",
    "\n",
    "#hacer la solicitud\n",
    "r2 = requests.get(url, params=params)\n",
    "#validar la rspta\n",
    "if r2.status_code == 200:\n",
    "    data = r2.json()\n",
    "   \n",
    "    #convertir a DF\n",
    "    df = pd.DataFrame(data).T    # .T = transponer para que las monedas sean columna\n",
    "    df.reset_index(inplace=False)\n",
    "    df.rename (columns={\"index\": \"Crypto\"}, inplace=True)\n",
    "    #Guardar en CSV\n",
    "    df.to_csv(\"Precios_criptos.csv\", index=False)\n",
    "    print(\"datos guardados\")\n",
    "else:\n",
    "    print(\"error al consultar la API:\", r2.status_code)\n"
   ]
  },
  {
   "cell_type": "code",
   "execution_count": 11,
   "id": "04d1b268",
   "metadata": {},
   "outputs": [
    {
     "name": "stdout",
     "output_type": "stream",
     "text": [
      "exportado\n"
     ]
    }
   ],
   "source": [
    "import requests\n",
    "import pandas as pd\n",
    "\n",
    "#llamar a la API - solo 5 primeros regitros\n",
    "url = \"https://randomuser.me/api/?results=5\"\n",
    "response2 = requests.get(url)\n",
    "#validamos\n",
    "if response2.status_code == 200:\n",
    "    data = response2.json()[\"results\"] #solo la lista de usuarios\n",
    "\n",
    "        #transformar el diccionario en lista \n",
    "    usuarios = []\n",
    "    for user in data:\n",
    "        usuarios.append({\n",
    "            \"Nombre completo\": f\"{user['name']['first']} {user['name']['last']}\",\n",
    "            \"Correo\": user[\"email\"],\n",
    "            \"Ciudad\": user[\"location\"][\"city\"], \n",
    "            \"Pais\": user[\"location\"][\"country\"],\n",
    "            \"Fecha Naciemiento\": user[\"dob\"][\"date\"]\n",
    "        })\n",
    "    #crear DF\n",
    "    df = pd.DataFrame(usuarios)\n",
    "    #exportar\n",
    "    df.to_excel(\"usuarios_2.xlsx\", index=False)\n",
    "    print(\"exportado\")\n",
    "else:\n",
    "    print(\"error:\", response2.status_code)  "
   ]
  },
  {
   "cell_type": "markdown",
   "id": "c40a87b9",
   "metadata": {},
   "source": [
    "Clase: Uso de parámetros en APIs \n",
    "\n",
    "Path Parameters: dentro de la URL, identifican un recurso específico\n",
    "\n",
    "Query Parameters: Van después del ? en la URL, sirven para filtrar, ordenar, paginar o enviar info opcional.\n"
   ]
  },
  {
   "cell_type": "code",
   "execution_count": 13,
   "id": "969ab6a6",
   "metadata": {},
   "outputs": [
    {
     "name": "stdout",
     "output_type": "stream",
     "text": [
      "URL final https://randomuser.me/api/?result=5&nat=es\n",
      "status: 200\n",
      "{'results': [{'gender': 'male', 'name': {'title': 'Mr', 'first': 'Alexander', 'last': 'Iglesias'}, 'location': {'street': {'number': 4171, 'name': 'Calle de Atocha'}, 'city': 'Santiago de Compostela', 'state': 'Cataluña', 'country': 'Spain', 'postcode': 24264, 'coordinates': {'latitude': '-51.2348', 'longitude': '-10.2118'}, 'timezone': {'offset': '-8:00', 'description': 'Pacific Time (US & Canada)'}}, 'email': 'alexander.iglesias@example.com', 'login': {'uuid': '17266c62-b8b4-41bb-a53a-972b6a8d4bd7', 'username': 'brownostrich639', 'password': 'entropy', 'salt': 'RIQrgSTO', 'md5': '90005e666a221248214a250a870f61ce', 'sha1': '54fc9e8daab26c3ab9ece4f881cabe36b6c100a3', 'sha256': '31f8badd33c71ef7a7cfcb0aa4af8080a31c996dfe54f3442deb5df279590113'}, 'dob': {'date': '1971-01-31T02:01:26.356Z', 'age': 54}, 'registered': {'date': '2005-10-17T05:06:17.192Z', 'age': 19}, 'phone': '946-582-784', 'cell': '672-891-409', 'id': {'name': 'DNI', 'value': '22047482-I'}, 'picture': {'large': 'https://randomuser.me/api/portraits/men/72.jpg', 'medium': 'https://randomuser.me/api/portraits/med/men/72.jpg', 'thumbnail': 'https://randomuser.me/api/portraits/thumb/men/72.jpg'}, 'nat': 'ES'}], 'info': {'seed': '3e87e545b81e672b', 'results': 1, 'page': 1, 'version': '1.4'}}\n"
     ]
    }
   ],
   "source": [
    "#EJERCICIO: crear una funcion que consulte dif parametros en una API\n",
    "\n",
    "#parametros de 5 usuarios españoles\n",
    "import requests\n",
    "import json\n",
    "\n",
    "url = \"https://randomuser.me/api/\"\n",
    "params = {\n",
    "    \"result\": 5,\n",
    "    \"nat\": \"es\"\n",
    "}\n",
    "\n",
    "r2 = requests.get(url, params=params)\n",
    "print(\"URL final\", r2.url)\n",
    "print(\"status:\", r2.status_code)\n",
    "print(r2.json())"
   ]
  },
  {
   "cell_type": "code",
   "execution_count": 25,
   "id": "d890eb24",
   "metadata": {},
   "outputs": [
    {
     "name": "stdout",
     "output_type": "stream",
     "text": [
      "    Nombre completo                         Email        Ciudad         Pais  \\\n",
      "0      Sahar Nyseth      sahar.nyseth@example.com  Bjørkelangen       Norway   \n",
      "1  Nathaniel Taylor  nathaniel.taylor@example.com         Taupo  New Zealand   \n",
      "2        Aatu Pulli        aatu.pulli@example.com         Lavia      Finland   \n",
      "3     Borja Herrero     borja.herrero@example.com      Torrente        Spain   \n",
      "4      Nino Laurent      nino.laurent@example.com      Eggenwil  Switzerland   \n",
      "\n",
      "   Edad  \n",
      "0    64  \n",
      "1    51  \n",
      "2    33  \n",
      "3    34  \n",
      "4    50  \n"
     ]
    }
   ],
   "source": [
    "#extraer datos claves\n",
    "import pandas as pd\n",
    "import requests\n",
    "url = \"https://randomuser.me/api/\"\n",
    "params = {\n",
    "    \"results\": 10\n",
    "}\n",
    "r2 = requests.get(url, params=params)\n",
    "\n",
    "if r2.status_code == 200: \n",
    "    results = r2.json()[\"results\"]\n",
    "    lista = []\n",
    "    for user in results:\n",
    "        lista.append({\n",
    "            \"Nombre completo\": f\"{user['name']['first']} {user['name']['last']}\",\n",
    "            \"Email\": user['email'],\n",
    "            \"Ciudad\": user['location']['city'],\n",
    "            \"Pais\": user['location']['country'],\n",
    "            \"Edad\": user['dob']['age']\n",
    "            \n",
    "        })\n",
    "    df = pd.DataFrame(lista)\n",
    "    print(df.head())\n",
    "    df.to_excel(\"usuarios_filtrados.xlsx\", index=False)"
   ]
  },
  {
   "cell_type": "code",
   "execution_count": 42,
   "id": "8d0f90c1",
   "metadata": {},
   "outputs": [
    {
     "name": "stdout",
     "output_type": "stream",
     "text": [
      "    Nombre           Pais  Edad\n",
      "0    Lloyd  United States    27\n",
      "1    Amber  United States    48\n",
      "2     Malo         France    46\n",
      "3     Elio         France    73\n",
      "4  Charlie         France    45\n",
      "5   Dwight  United States    73\n",
      "6   Martin         France    39\n",
      "7  Charles         France    64\n",
      "8   Maëlle         France    40\n",
      "9     Lise         France    64\n",
      "conteo de usuarios por pais:\n",
      "Pais\n",
      "France           7\n",
      "United States    3\n",
      "Name: Nombre, dtype: int64\n"
     ]
    }
   ],
   "source": [
    "#EXAM DE PRUEBA\n",
    "#Pide 3 usuarios, de cualquier país, pero solo con los campos: nombre, país y edad.\n",
    "import requests\n",
    "import pandas as pd\n",
    "url = \"https://randomuser.me/api/\"\n",
    "params = {\"results\": 10, \"nat\": \"us,fr\"} #sin espacios para ambos filtros\n",
    "r3 = requests.get(url, params=params)\n",
    "\n",
    "if r3.status_code == 200: \n",
    "    resultado = r3.json()[\"results\"]\n",
    "    usuarios = []\n",
    "    for user in resultado:\n",
    "        usuarios.append({\n",
    "            \"Nombre\": user['name']['first'],\n",
    "            \"Pais\": user['location']['country'],\n",
    "            \"Edad\": user['dob']['age']\n",
    "        })\n",
    "    df = pd.DataFrame(usuarios)\n",
    "    print(df.head(10))\n",
    "    df.to_csv(\"Usuarios.csv\", index=False)\n",
    "else:\n",
    "    print(\"error:\", r3.status_code)\n",
    "\n",
    "conteo = df.groupby(\"Pais\").count()[\"Nombre\"]\n",
    "print(\"conteo de usuarios por pais:\")\n",
    "print(conteo)\n"
   ]
  },
  {
   "cell_type": "markdown",
   "id": "eeb97f9a",
   "metadata": {},
   "source": [
    "POST APIs\n",
    "1️⃣ ¿Qué es un POST?\n",
    "\n",
    "GET: sirve para recibir datos de un servidor.\n",
    "\n",
    "POST: sirve para enviar datos al servidor.\n",
    "\n",
    "En APIs, POST se usa para crear recursos nuevos (usuarios, pedidos, mensajes, etc.).\n",
    "\n",
    "El servidor devuelve una respuesta con el estado (201 Created, 200 OK, o error) y, muchas veces, el objeto creado."
   ]
  },
  {
   "cell_type": "markdown",
   "id": "1db64326",
   "metadata": {},
   "source": [
    "2️⃣ Estructura del cuerpo (body) en JSON\n",
    "\n",
    "Cuando envías un POST, normalmente mandas un JSON con los datos del recurso que quieres crear.\n",
    "\n",
    "En Python, usaremos un diccionario y requests.post() lo convertirá a JSON si usamos el parámetro json=\n",
    "\n",
    "Ejemplo de JSON para crear un usuario: \n",
    "\n",
    "{\n",
    "    \"name\": \"Emi\",\n",
    "    \"email\": \"emi@example.com\",\n",
    "    \"username\": \"emi_dev\"\n",
    "}"
   ]
  },
  {
   "cell_type": "code",
   "execution_count": null,
   "id": "b3ea5203",
   "metadata": {},
   "outputs": [
    {
     "name": "stdout",
     "output_type": "stream",
     "text": [
      "El codigo de estado es: 201\n",
      "Respuesta: {'title': 'Mi primer post', 'body': 'Mensaje creado en python', 'userID': 1, 'id': 101}\n"
     ]
    }
   ],
   "source": [
    "import requests\n",
    "url = \"https://jsonplaceholder.typicode.com/posts\"\n",
    "#datos a enviar\n",
    "nuevo_post = {\n",
    "    \"title\": \"Mi primer post\",\n",
    "    \"body\": \"Mensaje creado en python\",\n",
    "    \"userID\": 1\n",
    "}\n",
    "#Enviamos, usamos POST\n",
    "respuesta = requests.post(url, json=nuevo_post) #json=nuevo_post → convierte el diccionario a JSON y lo envía.\n",
    "#Validamos respuesta\n",
    "print(\"El codigo de estado es:\", respuesta.status_code)  #201 significa \"creado\"\n",
    "print(\"Respuesta:\", respuesta.json())"
   ]
  },
  {
   "cell_type": "code",
   "execution_count": 6,
   "id": "4a969370",
   "metadata": {},
   "outputs": [
    {
     "name": "stdout",
     "output_type": "stream",
     "text": [
      "Usuario creado: Lola Torres\n",
      "Usuario creado: Kevin Perez\n",
      "Archivo creado con éxito\n"
     ]
    }
   ],
   "source": [
    "#EJERCICIO: Crear 2 usuarios y guardar en excel\n",
    "import requests\n",
    "import pandas as pd\n",
    "url = \"https://jsonplaceholder.typicode.com/users\"\n",
    "#Datos\n",
    "usuarios = [\n",
    "    {\"name\": \"Lola Torres\", \"email\": \"lola@example.com\", \"username\": \"ltorres\"},\n",
    "    {\"name\": \"Kevin Perez\", \"email\": \"kevin@example.com\", \"username\": \"kperez\"}\n",
    "]\n",
    "#lista para guardar la rspta\n",
    "respuesta = []\n",
    "#Validamos\n",
    "for usuario in usuarios:\n",
    "    response = requests.post(url, json=usuario) #debe ser usuario para que envié uno por vez\n",
    "    if response.status_code == 201:\n",
    "        print(f\"Usuario creado: {usuario['name']}\")\n",
    "        respuesta.append(response.json())\n",
    "    else:\n",
    "        print(\"Error al crear usuario\")\n",
    "#guarda en excel\n",
    "df = pd.DataFrame(respuesta)\n",
    "df.to_excel(\"Creacion_usuario.xlsx\", index=False)\n",
    "print(\"Archivo creado con éxito\")"
   ]
  },
  {
   "cell_type": "markdown",
   "id": "a404da57",
   "metadata": {},
   "source": [
    "🧩 Proyecto Integrador: Conectar a una API pública, descargar datos, guardarlos en Excel y automatizar el proceso."
   ]
  },
  {
   "cell_type": "code",
   "execution_count": null,
   "id": "7220c5f8",
   "metadata": {},
   "outputs": [
    {
     "name": "stdout",
     "output_type": "stream",
     "text": [
      "Datos obtenido: 100 registros\n",
      "   userId  id                                              title  \\\n",
      "0       1   1  sunt aut facere repellat provident occaecati e...   \n",
      "1       1   2                                       qui est esse   \n",
      "2       1   3  ea molestias quasi exercitationem repellat qui...   \n",
      "3       1   4                               eum et est occaecati   \n",
      "4       1   5                                 nesciunt quas odio   \n",
      "\n",
      "                                                body       fecha_descarga  \n",
      "0  quia et suscipit\\nsuscipit recusandae consequu...  2025-08-15 23:46:09  \n",
      "1  est rerum tempore vitae\\nsequi sint nihil repr...  2025-08-15 23:46:09  \n",
      "2  et iusto sed quo iure\\nvoluptatem occaecati om...  2025-08-15 23:46:09  \n",
      "3  ullam et saepe reiciendis voluptatem adipisci\\...  2025-08-15 23:46:09  \n",
      "4  repudiandae veniam quaerat sunt sed\\nalias aut...  2025-08-15 23:46:09  \n",
      "Archivo guardado como posts_20250815_234609.xlsx\n"
     ]
    }
   ],
   "source": [
    "import requests\n",
    "import pandas as pd\n",
    "from datetime import datetime\n",
    "url = \"https://jsonplaceholder.typicode.com/posts\"\n",
    "response = requests.get(url)\n",
    "data = response.json()\n",
    "print(f\"Datos obtenido: {len(data)} registros\")\n",
    "\n",
    "df = pd.DataFrame(data)   #Convierte a dataframe\n",
    "df[\"fecha_descarga\"] = datetime.now().strftime(\"%Y-%m-%d %H:%M:%S\") #agregar fecha de descarga\n",
    "print(df.head())\n",
    "\n",
    "#Guardar data en archivo excel\n",
    "nombre_archivo = f\"posts_{datetime.now().strftime(\"%Y%m%d_%H%M%S\")}.xlsx\"\n",
    "df.to_excel(nombre_archivo, index=False)\n",
    "print(f\"Archivo guardado como {nombre_archivo}\")"
   ]
  },
  {
   "cell_type": "markdown",
   "id": "208523b8",
   "metadata": {},
   "source": [
    "🧩 Proyecto Final: API + Automatización"
   ]
  },
  {
   "cell_type": "code",
   "execution_count": 4,
   "id": "2809d496",
   "metadata": {},
   "outputs": [
    {
     "name": "stdout",
     "output_type": "stream",
     "text": [
      "Se conectó con éxito\n",
      "se creo nuevo post\n",
      "Archivo generado con éxito\n"
     ]
    }
   ],
   "source": [
    "import requests\n",
    "import pandas as pd\n",
    "import json\n",
    "\n",
    "#Conectar API con parámetros\n",
    "url= \"https://jsonplaceholder.typicode.com/posts\"\n",
    "params = {\"userId\": 1}\n",
    "response = requests.get(url, params=params)\n",
    "\n",
    "#Validamos y Guardamos\n",
    "if response.status_code == 200: \n",
    "    data = response.json()\n",
    "    print(\"Se conectó con éxito\")\n",
    "else:\n",
    "    print(f\"error al conectarse\", response.status_code)\n",
    "\n",
    "#Crear nuevos datos y enviar\n",
    "nuevo_post = {\n",
    "    \"title\": \"Proyecto nuevo api\",\n",
    "    \"body\": \"este es mi nuevo post\",\n",
    "    \"userId\": 1\n",
    "}\n",
    "response = requests.post(url, json=nuevo_post)\n",
    "if response.status_code == 201:\n",
    "    print(\"se creo nuevo post\")\n",
    "else:\n",
    "    print(\"error al crear nuevo post\")\n",
    "#automatizar descarga: \n",
    "usuarios = [1, 2, 3]\n",
    "all_data = []\n",
    "for user in usuarios: \n",
    "    params = {\"userId\": user}\n",
    "    r = requests.get(url, params=params)\n",
    "    if r.status_code == 200:\n",
    "        all_data.extend(r.json())\n",
    "\n",
    "#\n",
    "df = pd.DataFrame(all_data)\n",
    "df.to_excel(\"Proy_final.xlsx\", index=False)\n",
    "print(\"Archivo generado con éxito\")\n",
    "\n"
   ]
  }
 ],
 "metadata": {
  "kernelspec": {
   "display_name": "Python 3",
   "language": "python",
   "name": "python3"
  },
  "language_info": {
   "codemirror_mode": {
    "name": "ipython",
    "version": 3
   },
   "file_extension": ".py",
   "mimetype": "text/x-python",
   "name": "python",
   "nbconvert_exporter": "python",
   "pygments_lexer": "ipython3",
   "version": "3.13.2"
  }
 },
 "nbformat": 4,
 "nbformat_minor": 5
}
